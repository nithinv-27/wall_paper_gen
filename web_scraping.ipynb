{
 "cells": [
  {
   "cell_type": "code",
   "execution_count": 1,
   "metadata": {},
   "outputs": [],
   "source": [
    "import requests\n",
    "from bs4 import BeautifulSoup as bs\n",
    "import os"
   ]
  },
  {
   "cell_type": "code",
   "execution_count": 5,
   "metadata": {},
   "outputs": [],
   "source": [
    "# content of URL\n",
    "url=    # Enter url\n",
    "r = requests.get(url)\n",
    " \n",
    "# Parse HTML Code\n",
    "soup = bs(r.text, 'html.parser')"
   ]
  },
  {
   "cell_type": "code",
   "execution_count": null,
   "metadata": {},
   "outputs": [],
   "source": [
    "soup"
   ]
  },
  {
   "cell_type": "code",
   "execution_count": 7,
   "metadata": {},
   "outputs": [
    {
     "name": "stdout",
     "output_type": "stream",
     "text": [
      "176\n"
     ]
    }
   ],
   "source": [
    "# find all images in URL\n",
    "images = soup.findAll('img')\n",
    "\n",
    "# total images in webpage:\n",
    "print(len(images))"
   ]
  },
  {
   "cell_type": "code",
   "execution_count": 9,
   "metadata": {},
   "outputs": [],
   "source": [
    "folder_name = \"img_dataset\"\n",
    "# folder creation\n",
    "os.mkdir(folder_name)"
   ]
  },
  {
   "cell_type": "code",
   "execution_count": 10,
   "metadata": {},
   "outputs": [],
   "source": [
    "# DOWNLOAD ALL IMAGES FROM THAT URL\n",
    "def download_images(images, folder_name):\n",
    "   \n",
    "    # initial count is zero\n",
    "    count = 0\n",
    " \n",
    "    # print total images found in URL\n",
    "    print(f\"Total {len(images)} Image Found!\")\n",
    " \n",
    "    # checking if images is not zero\n",
    "    if len(images) != 0:\n",
    "        for i, image in enumerate(images):\n",
    "            # From image tag ,Fetch image Source URL\n",
    " \n",
    "                        # 1.data-srcset\n",
    "                        # 2.data-src\n",
    "                        # 3.data-fallback-src\n",
    "                        # 4.src\n",
    " \n",
    "            # Here we will use exception handling\n",
    " \n",
    "            # first we will search for \"data-srcset\" in img tag\n",
    "            try:\n",
    "                # In image tag ,searching for \"data-srcset\"\n",
    "                image_link = image[\"data-srcset\"]\n",
    "                 \n",
    "            # then we will search for \"data-src\" in img \n",
    "            # tag and so on..\n",
    "            except:\n",
    "                try:\n",
    "                    # In image tag ,searching for \"data-src\"\n",
    "                    image_link = image[\"data-src\"]\n",
    "                except:\n",
    "                    try:\n",
    "                        # In image tag ,searching for \"data-fallback-src\"\n",
    "                        image_link = image[\"data-fallback-src\"]\n",
    "                    except:\n",
    "                        try:\n",
    "                            # In image tag ,searching for \"src\"\n",
    "                            image_link = image[\"src\"]\n",
    " \n",
    "                        # if no Source URL found\n",
    "                        except:\n",
    "                            pass\n",
    " \n",
    "            # After getting Image Source URL\n",
    "            # We will try to get the content of image\n",
    "            try:\n",
    "                r = requests.get(image_link).content\n",
    "                try:\n",
    " \n",
    "                    # possibility of decode\n",
    "                    r = str(r, 'utf-8')\n",
    " \n",
    "                except UnicodeDecodeError:\n",
    " \n",
    "                    # After checking above condition, Image Download start\n",
    "                    with open(f\"{folder_name}/images{i+1}.jpg\", \"wb+\") as f:\n",
    "                        f.write(r)\n",
    " \n",
    "                    # counting number of image downloaded\n",
    "                    count += 1\n",
    "            except:\n",
    "                pass\n",
    " \n",
    "        # There might be possible, that all\n",
    "        # images not download\n",
    "        # if all images download\n",
    "        if count == len(images):\n",
    "            print(\"All Images Downloaded!\")\n",
    "             \n",
    "        # if all images not download\n",
    "        else:\n",
    "            print(f\"Total {count} Images Downloaded Out of {len(images)}\")"
   ]
  },
  {
   "cell_type": "code",
   "execution_count": 11,
   "metadata": {},
   "outputs": [
    {
     "name": "stdout",
     "output_type": "stream",
     "text": [
      "Total 176 Image Found!\n",
      "Total 116 Images Downloaded Out of 176\n"
     ]
    }
   ],
   "source": [
    "\n",
    " \n",
    "# image downloading start\n",
    "download_images(images, folder_name)"
   ]
  },
  {
   "cell_type": "code",
   "execution_count": null,
   "metadata": {},
   "outputs": [],
   "source": []
  }
 ],
 "metadata": {
  "kernelspec": {
   "display_name": "env",
   "language": "python",
   "name": "python3"
  },
  "language_info": {
   "codemirror_mode": {
    "name": "ipython",
    "version": 3
   },
   "file_extension": ".py",
   "mimetype": "text/x-python",
   "name": "python",
   "nbconvert_exporter": "python",
   "pygments_lexer": "ipython3",
   "version": "3.9.13"
  }
 },
 "nbformat": 4,
 "nbformat_minor": 2
}
